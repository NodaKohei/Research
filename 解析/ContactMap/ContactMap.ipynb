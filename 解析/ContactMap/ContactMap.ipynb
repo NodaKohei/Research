{
 "cells": [
  {
   "cell_type": "markdown",
   "metadata": {},
   "source": [
    "## ContactMap\n",
    "\n",
    "1. 線維の各残基に最近接なモノマーを探す\n",
    "2. 最近接のモノマー番号をカウントする\n",
    "3. 横軸線維番号、縦軸カウント数のグラフを作成する"
   ]
  }
 ],
 "metadata": {
  "kernelspec": {
   "display_name": "R",
   "language": "R",
   "name": "ir"
  },
  "language_info": {
   "codemirror_mode": "r",
   "file_extension": ".r",
   "mimetype": "text/x-r-source",
   "name": "R",
   "pygments_lexer": "r",
   "version": "3.5.1"
  }
 },
 "nbformat": 4,
 "nbformat_minor": 2
}
